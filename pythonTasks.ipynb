{
  "nbformat": 4,
  "nbformat_minor": 0,
  "metadata": {
    "colab": {
      "name": "pythonTasks.ipynb",
      "provenance": [],
      "collapsed_sections": []
    },
    "kernelspec": {
      "name": "python3",
      "display_name": "Python 3"
    },
    "accelerator": "GPU"
  },
  "cells": [
    {
      "cell_type": "code",
      "metadata": {
        "id": "v83n5a4pEwJ4",
        "colab_type": "code",
        "outputId": "1885a105-30c9-48f7-b5cf-5582d00dc3c4",
        "colab": {
          "base_uri": "https://localhost:8080/",
          "height": 102
        }
      },
      "source": [
        "import random\n",
        "import math\n",
        "\n",
        "a = random.randrange(1,30)\n",
        "b = random.randrange(1,30)\n",
        "print(\"Катет 1: \", a)\n",
        "print(\"Катет 2: \", b)\n",
        "c = math.sqrt(a**2 + b**2)\n",
        "P = a + b + c\n",
        "S = a*b/2\n",
        "print(\"Гипотенуза: \", c)\n",
        "print(\"Периметр: \", P)\n",
        "print(\"Площадь: \", S)"
      ],
      "execution_count": 0,
      "outputs": [
        {
          "output_type": "stream",
          "text": [
            "Катет 1:  6\n",
            "Катет 2:  26\n",
            "Гипотенуза:  26.68332812825267\n",
            "Периметр:  58.68332812825267\n",
            "Площадь:  78.0\n"
          ],
          "name": "stdout"
        }
      ]
    },
    {
      "cell_type": "code",
      "metadata": {
        "id": "bOiOMPPRE0Ls",
        "colab_type": "code",
        "outputId": "4642e0fb-63b7-4d02-df88-5074374b3925",
        "colab": {
          "base_uri": "https://localhost:8080/",
          "height": 71
        }
      },
      "source": [
        "import random\n",
        "\n",
        "arr = [random.randint(0, 100) for i in range(101)]\n",
        "print(arr) \n",
        "count = 0\n",
        "for i in arr:\n",
        "  if (arr[i]%3==0)&(arr[i]%7!=0):\n",
        "    count+=1\n",
        "print(\"Чисел, делящихся на 3 и не делящихся на 7: \", count)    "
      ],
      "execution_count": 0,
      "outputs": [
        {
          "output_type": "stream",
          "text": [
            "[67, 89, 14, 37, 90, 69, 17, 6, 15, 0, 75, 79, 18, 59, 40, 91, 11, 80, 11, 69, 69, 35, 25, 83, 38, 17, 96, 86, 75, 85, 29, 55, 40, 44, 10, 40, 21, 60, 42, 35, 12, 10, 75, 92, 25, 18, 54, 28, 36, 10, 30, 17, 24, 86, 24, 22, 47, 3, 30, 85, 24, 67, 89, 82, 5, 77, 87, 36, 81, 57, 14, 70, 21, 45, 7, 21, 99, 16, 30, 20, 78, 47, 21, 62, 52, 19, 35, 32, 10, 49, 50, 67, 56, 27, 25, 63, 19, 14, 59, 41, 42]\n",
            "Чисел, делящихся на 3 и не делящихся на 7:  31\n"
          ],
          "name": "stdout"
        }
      ]
    },
    {
      "cell_type": "code",
      "metadata": {
        "id": "T9pe1E0oNBtS",
        "colab_type": "code",
        "outputId": "40523a0b-35af-4978-c673-e4d2c7f977cc",
        "colab": {
          "base_uri": "https://localhost:8080/",
          "height": 102
        }
      },
      "source": [
        "import random\n",
        "\n",
        "arr = [[\" \", \" \", \" \", \" \", \" \"],\n",
        "      [\" \", \" \", \" \", \" \", \" \"],\n",
        "      [\" \", \" \", \" \", \" \", \" \"],\n",
        "      [\" \", \" \", \" \", \" \", \" \"],\n",
        "      [\" \", \" \", \" \", \" \", \" \"]]\n",
        "for i in range(5):\n",
        "  j = random.randint(0,4)\n",
        "  arr[i][j] = \"0\"\n",
        "for i in range ( len(arr) ): \n",
        "      for j in range ( len(arr[i]) ): \n",
        "          print ( arr[i][j], end = \"\" )\n",
        "      print ()"
      ],
      "execution_count": 0,
      "outputs": [
        {
          "output_type": "stream",
          "text": [
            "    0\n",
            "   0 \n",
            "  0  \n",
            "    0\n",
            "   0 \n"
          ],
          "name": "stdout"
        }
      ]
    },
    {
      "cell_type": "code",
      "metadata": {
        "id": "c1c4wrlISpqE",
        "colab_type": "code",
        "outputId": "5248c6d6-d7da-400f-bcd0-f2f77713f1c5",
        "colab": {
          "base_uri": "https://localhost:8080/",
          "height": 34
        }
      },
      "source": [
        "s1 = 'привет, как.дела/хорошо::'\n",
        "s2 = ' ,:.-/'\n",
        " \n",
        "for sym in s2:\n",
        "    s1 = s1.replace(str(sym), ',')\n",
        "L = s1.split(',')\n",
        "while 1:\n",
        "    try:\n",
        "        L.remove('')\n",
        "    except ValueError:\n",
        "        break\n",
        "print(L)"
      ],
      "execution_count": 0,
      "outputs": [
        {
          "output_type": "stream",
          "text": [
            "['привет', 'как', 'дела', 'хорошо']\n"
          ],
          "name": "stdout"
        }
      ]
    },
    {
      "cell_type": "code",
      "metadata": {
        "id": "gb0E0WJrcTjC",
        "colab_type": "code",
        "colab": {}
      },
      "source": [
        "def max_elem(x): \n",
        "    counter = 1\n",
        "    elem = x[0]\n",
        "    for i in set(x):\n",
        "        count_ = x.count(i)\n",
        "        if count_ > counter:\n",
        "            counter, elem = count_, i\n",
        "    return elem\n",
        "                    \n",
        "result = dict()\n",
        "with open('input.txt') as file, open('output.txt','w') as out:\n",
        "    for i in file.read().split('\\n'):\n",
        "        ip,tim,day = i.split()\n",
        "        time_hour = tim[:tim.find(':')]\n",
        "        if ip in result:\n",
        "            result[ip][0].append(tim[:tim.find(':')])\n",
        "            result[ip][1].append(day)\n",
        "        else:\n",
        "            result[ip] =[[tim[:tim.find(':')]],[day]]\n",
        "             \n",
        "    pop_time_site = []\n",
        "    for ip,x in result.items():\n",
        "        hour,day = max_elem(x[0]),max_elem(x[1])\n",
        "        pop_time_site += x[0]\n",
        "        result = [ip, len(x[0]), max_elem(x[0]), max_elem(x[1])]\n",
        "        out.write('IP-{},visits-{}, Pop time-{}, Day-{}\\n'.format(*result))\n",
        "    out.write('Pop time site-{}'.format(max_elem(pop_time_site)))\n"
      ],
      "execution_count": 0,
      "outputs": []
    },
    {
      "cell_type": "code",
      "metadata": {
        "id": "_Xs7zeJKdIeR",
        "colab_type": "code",
        "outputId": "326dc114-e7bf-45fb-fa9c-23a74064b0c1",
        "colab": {
          "base_uri": "https://localhost:8080/",
          "height": 136
        }
      },
      "source": [
        "import random\n",
        "\n",
        "n = random.randint(1,10)\n",
        "fl = 1\n",
        "i = 0\n",
        "while (fl==1)&(i<3):\n",
        "  k = int(input())\n",
        "  if k==n:\n",
        "    print(\"Вы угадали!\")\n",
        "    fl = 0\n",
        "  if k<n:\n",
        "    print(\"Загаданное число больше\")\n",
        "    i+=1\n",
        "  if k>n:\n",
        "    print(\"Загаданное число меньше\")\n",
        "    i+=1\n",
        "if fl==1:\n",
        "  print(\"Вы проиграли! Загаданное число:\", n)"
      ],
      "execution_count": 0,
      "outputs": [
        {
          "output_type": "stream",
          "text": [
            "5\n",
            "Загаданное число меньше\n",
            "2\n",
            "Загаданное число больше\n",
            "3\n",
            "Загаданное число больше\n",
            "Вы проиграли! Загаданное число: 4\n"
          ],
          "name": "stdout"
        }
      ]
    },
    {
      "cell_type": "code",
      "metadata": {
        "id": "BYTUkltFh8iU",
        "colab_type": "code",
        "outputId": "0fd5dbad-a14c-43be-8861-dc75221aa785",
        "colab": {
          "base_uri": "https://localhost:8080/",
          "height": 204
        }
      },
      "source": [
        "l = []\n",
        "l.insert(0, 11) \n",
        "l.append(12)\n",
        "print(l)\n",
        "l.clear()\n",
        "print(l)\n",
        "print(len(l))\n",
        "\n",
        "def isEmpty(l):\n",
        "  if l:\n",
        "    return 0\n",
        "  else:\n",
        "    return 1\n",
        "\n",
        "print (isEmpty(l))  \n",
        "l = [1, 2, 3, 4, 5]\n",
        "l.pop(0)\n",
        "l.pop()\n",
        "print(l)\n",
        "print(l.index(3))\n",
        "\n",
        "def min(l):\n",
        "  min = l[0]\n",
        "  for i in range (len(l)):\n",
        "    if l[i]<min:\n",
        "      min = l[i]\n",
        "  return min\n",
        "\n",
        "def max(l):\n",
        "  max = l[0]\n",
        "  for i in range (len(l)):\n",
        "    if l[i]>max:\n",
        "      max = l[i]\n",
        "  return max\n",
        "\n",
        "print(min(l))\n",
        "print(max(l))\n",
        "l.remove(3)\n",
        "print(l)\n",
        "l.append(2)\n",
        "\n",
        "def removeAll(l, x):\n",
        "  for i in range (len(l)-1):\n",
        "    if l[i] == x:\n",
        "      l.pop(i)\n",
        "  return l\n",
        "\n",
        "x = 2\n",
        "print(removeAll(l,x))\n",
        "\n",
        "def change(l, x, y):\n",
        "  for i in range (len(l)):\n",
        "    if l[i] == x:\n",
        "      l[i] = y\n",
        "  return l\n",
        "\n",
        "x = 4\n",
        "y = 5\n",
        "print(change(l,x,y)) "
      ],
      "execution_count": 0,
      "outputs": [
        {
          "output_type": "stream",
          "text": [
            "[11, 12]\n",
            "[]\n",
            "0\n",
            "1\n",
            "[2, 3, 4]\n",
            "1\n",
            "2\n",
            "4\n",
            "[2, 4]\n",
            "[4]\n",
            "[5]\n"
          ],
          "name": "stdout"
        }
      ]
    },
    {
      "cell_type": "code",
      "metadata": {
        "id": "Hy09CYqk5NQ_",
        "colab_type": "code",
        "outputId": "d2c5fd71-f84e-4407-f44e-cc018f8386a6",
        "colab": {
          "base_uri": "https://localhost:8080/",
          "height": 85
        }
      },
      "source": [
        "import random\n",
        "import string\n",
        "\n",
        "\n",
        "class Product:\n",
        "  \n",
        "  def init(self, name, price):\n",
        "    self.name = name\n",
        "    self.price = price\n",
        "    \n",
        "class Merchandiser:\n",
        "  \n",
        "  def init(self, m_id):\n",
        "    self.m_id = m_id\n",
        "    \n",
        "  def createProd(self):\n",
        "    name = input()\n",
        "    price = random.randrange(100, 1000)\n",
        "    prod = Product()\n",
        "    prod.init(name, price)\n",
        "    return prod\n",
        "    \n",
        "class Costumer:\n",
        "  \n",
        "  def init(self, name, balance):\n",
        "    self.name = name\n",
        "    self.balance = balance\n",
        "    \n",
        "  def buy(self, name, prodList):\n",
        "    for i in range (len(prodList)):\n",
        "      print(prodList[i].name)\n",
        "      if name==prodList[i].name:\n",
        "        print(prodList[i].price)\n",
        "        self.balance -= prodList[i].price    \n",
        "      \n",
        "merch = Merchandiser()\n",
        "merch.init(1)\n",
        "prodList = []\n",
        "prodList.append(merch.createProd())\n",
        "cost = Costumer()\n",
        "cost.init(\"John\", 10000)\n",
        "name1 = input() \n",
        "cost.buy(name1, prodList)\n",
        "print(cost.balance)"
      ],
      "execution_count": 0,
      "outputs": [
        {
          "output_type": "stream",
          "text": [
            "v\n",
            "b\n",
            "v\n",
            "10000\n"
          ],
          "name": "stdout"
        }
      ]
    }
  ]
}