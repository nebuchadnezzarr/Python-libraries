{
  "nbformat": 4,
  "nbformat_minor": 0,
  "metadata": {
    "colab": {
      "name": "numpy+pandas.ipynb",
      "provenance": [],
      "collapsed_sections": []
    },
    "kernelspec": {
      "name": "python3",
      "display_name": "Python 3"
    },
    "accelerator": "GPU"
  },
  "cells": [
    {
      "cell_type": "code",
      "metadata": {
        "id": "qFn6YK6ikhfy",
        "colab_type": "code",
        "outputId": "56a7c0d2-74ec-482f-9718-ca2e6238e6ed",
        "colab": {
          "base_uri": "https://localhost:8080/",
          "height": 1000
        }
      },
      "source": [
        "import numpy as np\n",
        "\n",
        "arr = np.random.normal(loc = 1, scale = 100, size = (1000, 50))\n",
        "avg = np.mean(arr, axis=0)\n",
        "dev = np.std(arr, axis=0)\n",
        "for j in range(50):\n",
        "  for i in range(1000):\n",
        "    arr[i][j] = (arr[i][j]-avg[j])/dev[j]\n",
        "summ = np.sum(arr, axis=1)\n",
        "for i in range (len(summ)):\n",
        "  if summ[i]>10:\n",
        "    print(i)\n",
        "\n",
        "A = np.eye(3)    \n",
        "B = np.eye(3)\n",
        "C = np.vstack((A,B))\n",
        "print(C)"
      ],
      "execution_count": 0,
      "outputs": [
        {
          "output_type": "stream",
          "text": [
            "1\n",
            "25\n",
            "27\n",
            "49\n",
            "58\n",
            "109\n",
            "120\n",
            "127\n",
            "136\n",
            "169\n",
            "205\n",
            "208\n",
            "212\n",
            "213\n",
            "216\n",
            "227\n",
            "231\n",
            "241\n",
            "248\n",
            "252\n",
            "260\n",
            "284\n",
            "294\n",
            "300\n",
            "328\n",
            "340\n",
            "344\n",
            "362\n",
            "366\n",
            "410\n",
            "432\n",
            "443\n",
            "455\n",
            "464\n",
            "466\n",
            "469\n",
            "483\n",
            "484\n",
            "490\n",
            "494\n",
            "498\n",
            "499\n",
            "532\n",
            "542\n",
            "562\n",
            "581\n",
            "612\n",
            "618\n",
            "625\n",
            "635\n",
            "640\n",
            "651\n",
            "654\n",
            "693\n",
            "718\n",
            "724\n",
            "743\n",
            "752\n",
            "757\n",
            "772\n",
            "798\n",
            "808\n",
            "818\n",
            "832\n",
            "836\n",
            "888\n",
            "893\n",
            "894\n",
            "898\n",
            "920\n",
            "932\n",
            "953\n",
            "959\n",
            "993\n",
            "[[1. 0. 0.]\n",
            " [0. 1. 0.]\n",
            " [0. 0. 1.]\n",
            " [1. 0. 0.]\n",
            " [0. 1. 0.]\n",
            " [0. 0. 1.]]\n"
          ],
          "name": "stdout"
        }
      ]
    },
    {
      "cell_type": "code",
      "metadata": {
        "id": "5Yt4_FhmtMmm",
        "colab_type": "code",
        "outputId": "0a59c750-501f-4ad3-f579-0f1357cc2d28",
        "colab": {
          "base_uri": "https://localhost:8080/",
          "height": 68
        }
      },
      "source": [
        "import pandas \n",
        "\n",
        "data = pandas.read_csv('titanic.csv', index_col='PassengerId')\n",
        "data[:10]\n",
        "\n",
        "\n",
        "\n",
        "srvd = data['Survived'].value_counts(1)\n",
        "#????\n",
        "print(srvd)\n",
        "\n"
      ],
      "execution_count": 0,
      "outputs": [
        {
          "output_type": "stream",
          "text": [
            "0    0.616162\n",
            "1    0.383838\n",
            "Name: Survived, dtype: float64\n"
          ],
          "name": "stdout"
        }
      ]
    }
  ]
}