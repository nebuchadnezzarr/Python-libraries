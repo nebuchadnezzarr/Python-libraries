{
  "nbformat": 4,
  "nbformat_minor": 0,
  "metadata": {
    "colab": {
      "name": "Decision tree.ipynb",
      "provenance": []
    },
    "kernelspec": {
      "name": "python3",
      "display_name": "Python 3"
    }
  },
  "cells": [
    {
      "cell_type": "code",
      "metadata": {
        "id": "i-aQkPKvOkVw",
        "colab_type": "code",
        "colab": {}
      },
      "source": [
        "import numpy as np    #Импорт библиотек\n",
        "import pandas\n",
        "from sklearn.tree import DecisionTreeClassifier #импорт дерева решений\n",
        "\n",
        "import sys\n",
        "sys.path.append(\"..\")\n",
        "from shad_util import print_answer\n",
        "\n"
      ],
      "execution_count": 0,
      "outputs": []
    },
    {
      "cell_type": "code",
      "metadata": {
        "id": "8ksHuVwoOtbM",
        "colab_type": "code",
        "colab": {
          "base_uri": "https://localhost:8080/",
          "height": 68
        },
        "outputId": "479d1fd2-4081-4531-83b3-21c6457118cb"
      },
      "source": [
        "\n",
        "\n",
        "data = pd.read_csv('titanic.csv', index_col='PassengerId') #Загружаем выборку из файла titanic.csv с помощью Pandas\n",
        "\n",
        " \n",
        "x_labels = ['Pclass', 'Fare', 'Age', 'Sex']  #в выборке четыре признака\n",
        "X = data.loc[:, x_labels]\n",
        "\n",
        "X['Sex'] = X['Sex'].map(lambda sex: 1 if sex == 'male' else 0) #для строковых значений \n",
        "\n",
        "y = data['Survived'] #целевое значение \n",
        "\n",
        "X = X.dropna()\n",
        "y = y[X.index.values]  #очистка от пропущенных значений \n",
        "\n",
        "\n",
        "\n",
        "clf = DecisionTreeClassifier(random_state=241) #обучение решающего дерева с параметром random_state=241 и остальными параметрами по умолчанию\n",
        "\n",
        "clf.fit(np.array(X.values), np.array(y.values))\n",
        "\n",
        "\n",
        "importances = pd.Series(clf.feature_importances_, index=x_labels)\n",
        "\n",
        "print(X.columns, 'признаки') \n",
        "\n",
        "clf.fit(X, Y) \n",
        "\n",
        "print(clf.feature_importances_, 'вычисление важности каждого признака') \n",
        "\n",
        "print(1, ' '.join(importances.sort_values(ascending=False).head(2).index.values), 'два признака с наибольшей важностью')\n",
        "\n",
        "\n"
      ],
      "execution_count": 15,
      "outputs": [
        {
          "output_type": "stream",
          "text": [
            "Index(['Pclass', 'Fare', 'Age', 'Sex'], dtype='object') признаки\n",
            "[0.14000522 0.30343647 0.2560461  0.30051221] вычисление важности каждого признака\n",
            "1 Fare Sex два признака с наибольшей важностью\n"
          ],
          "name": "stdout"
        }
      ]
    }
  ]
}